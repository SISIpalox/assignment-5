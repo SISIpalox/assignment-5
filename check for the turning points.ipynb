{
 "cells": [
  {
   "cell_type": "code",
   "execution_count": 15,
   "id": "d0ff2e5d-bfda-4b27-b14c-c53e04f5ff6b",
   "metadata": {
    "tags": []
   },
   "outputs": [
    {
     "data": {
      "text/plain": [
       "array([[485, 484, 483, 482, 481, 480, 479, 478, 477, 476, 475, 474, 473,\n",
       "        472, 471, 470, 469, 468, 467, 466, 465, 464, 463],\n",
       "       [486, 401, 400, 399, 398, 397, 396, 395, 394, 393, 392, 391, 390,\n",
       "        389, 388, 387, 386, 385, 384, 383, 382, 381, 462],\n",
       "       [487, 402, 325, 324, 323, 322, 321, 320, 319, 318, 317, 316, 315,\n",
       "        314, 313, 312, 311, 310, 309, 308, 307, 380, 461],\n",
       "       [488, 403, 326, 257, 256, 255, 254, 253, 252, 251, 250, 249, 248,\n",
       "        247, 246, 245, 244, 243, 242, 241, 306, 379, 460],\n",
       "       [489, 404, 327, 258, 197, 196, 195, 194, 193, 192, 191, 190, 189,\n",
       "        188, 187, 186, 185, 184, 183, 240, 305, 378, 459],\n",
       "       [490, 405, 328, 259, 198, 145, 144, 143, 142, 141, 140, 139, 138,\n",
       "        137, 136, 135, 134, 133, 182, 239, 304, 377, 458],\n",
       "       [491, 406, 329, 260, 199, 146, 101, 100,  99,  98,  97,  96,  95,\n",
       "         94,  93,  92,  91, 132, 181, 238, 303, 376, 457],\n",
       "       [492, 407, 330, 261, 200, 147, 102,  65,  64,  63,  62,  61,  60,\n",
       "         59,  58,  57,  90, 131, 180, 237, 302, 375, 456],\n",
       "       [493, 408, 331, 262, 201, 148, 103,  66,  37,  36,  35,  34,  33,\n",
       "         32,  31,  56,  89, 130, 179, 236, 301, 374, 455],\n",
       "       [494, 409, 332, 263, 202, 149, 104,  67,  38,  17,  16,  15,  14,\n",
       "         13,  30,  55,  88, 129, 178, 235, 300, 373, 454],\n",
       "       [495, 410, 333, 264, 203, 150, 105,  68,  39,  18,   5,   4,   3,\n",
       "         12,  29,  54,  87, 128, 177, 234, 299, 372, 453],\n",
       "       [496, 411, 334, 265, 204, 151, 106,  69,  40,  19,   6,   1,   2,\n",
       "         11,  28,  53,  86, 127, 176, 233, 298, 371, 452],\n",
       "       [497, 412, 335, 266, 205, 152, 107,  70,  41,  20,   7,   8,   9,\n",
       "         10,  27,  52,  85, 126, 175, 232, 297, 370, 451],\n",
       "       [498, 413, 336, 267, 206, 153, 108,  71,  42,  21,  22,  23,  24,\n",
       "         25,  26,  51,  84, 125, 174, 231, 296, 369, 450],\n",
       "       [499, 414, 337, 268, 207, 154, 109,  72,  43,  44,  45,  46,  47,\n",
       "         48,  49,  50,  83, 124, 173, 230, 295, 368, 449],\n",
       "       [500, 415, 338, 269, 208, 155, 110,  73,  74,  75,  76,  77,  78,\n",
       "         79,  80,  81,  82, 123, 172, 229, 294, 367, 448],\n",
       "       [501, 416, 339, 270, 209, 156, 111, 112, 113, 114, 115, 116, 117,\n",
       "        118, 119, 120, 121, 122, 171, 228, 293, 366, 447],\n",
       "       [502, 417, 340, 271, 210, 157, 158, 159, 160, 161, 162, 163, 164,\n",
       "        165, 166, 167, 168, 169, 170, 227, 292, 365, 446],\n",
       "       [503, 418, 341, 272, 211, 212, 213, 214, 215, 216, 217, 218, 219,\n",
       "        220, 221, 222, 223, 224, 225, 226, 291, 364, 445],\n",
       "       [504, 419, 342, 273, 274, 275, 276, 277, 278, 279, 280, 281, 282,\n",
       "        283, 284, 285, 286, 287, 288, 289, 290, 363, 444],\n",
       "       [505, 420, 343, 344, 345, 346, 347, 348, 349, 350, 351, 352, 353,\n",
       "        354, 355, 356, 357, 358, 359, 360, 361, 362, 443],\n",
       "       [506, 421, 422, 423, 424, 425, 426, 427, 428, 429, 430, 431, 432,\n",
       "        433, 434, 435, 436, 437, 438, 439, 440, 441, 442],\n",
       "       [507, 508, 509, 510, 511, 512, 513, 514, 515, 516, 517, 518, 519,\n",
       "        520, 521, 522, 523, 524, 525, 526, 527, 528, 529]])"
      ]
     },
     "execution_count": 15,
     "metadata": {},
     "output_type": "execute_result"
    }
   ],
   "source": [
    "import numpy as np\n",
    "def makeSpiral(Max):\n",
    "    N = 1\n",
    "    while(N**2 < Max):\n",
    "        N += 1\n",
    "    dirs = [(0, 1), (-1, 0), (0, -1), (1, 0)]\n",
    "\n",
    "    spiral = np.zeros((N, N), dtype=int)\n",
    "\n",
    "    if N%2 == 1:\n",
    "        coordx = int((N-1)/2)\n",
    "        coordy = int((N-1)/2)\n",
    "    else:\n",
    "        coordx = int(N/2)\n",
    "        coordy = int(N/2)-1\n",
    "    \n",
    "    now = np.array([coordx, coordy])\n",
    "    dirs_arg = 0\n",
    "    max_arrows = 1\n",
    "    count_arrows = 0\n",
    "    reach_max = 0\n",
    "\n",
    "    for i in range(1, Max+1):\n",
    "        spiral[tuple(now)] = i\n",
    "        if count_arrows == max_arrows:\n",
    "            dirs_arg = (dirs_arg + 1) % 4\n",
    "            reach_max += 1\n",
    "            count_arrows = 0\n",
    "            \n",
    "        if reach_max == 2:\n",
    "            max_arrows += 1\n",
    "            reach_max = 0\n",
    "\n",
    "        now += dirs[dirs_arg]\n",
    "        count_arrows += 1\n",
    "\n",
    "    return spiral\n",
    "\n",
    "# Generating the spiral matrix with Max set to 500\n",
    "spiral_matrix_500 = makeSpiral(529)\n",
    "spiral_matrix_500\n",
    "\n",
    "\n"
   ]
  },
  {
   "cell_type": "code",
   "execution_count": 18,
   "id": "202eaba9-bb9d-470b-a2d3-d21524099e84",
   "metadata": {
    "tags": []
   },
   "outputs": [
    {
     "data": {
      "text/plain": [
       "array([485, 401, 325, 257, 197, 145, 101,  65,  37,  17,   5,   1,   9,\n",
       "        25,  49,  81, 121, 169, 225, 289, 361, 441, 529])"
      ]
     },
     "execution_count": 18,
     "metadata": {},
     "output_type": "execute_result"
    }
   ],
   "source": [
    "def makeSpiral(Max):\n",
    "    N = 1\n",
    "    while(N**2 < Max):\n",
    "        N += 1\n",
    "    dirs = [(0, 1), (-1, 0), (0, -1), (1, 0)]\n",
    "\n",
    "    spiral = np.zeros((N, N), dtype=int)\n",
    "\n",
    "    if N%2 == 1:\n",
    "        coordx = int((N-1)/2)\n",
    "        coordy = int((N-1)/2)\n",
    "    else:\n",
    "        coordx = int(N/2)\n",
    "        coordy = int(N/2)-1\n",
    "    \n",
    "    now = np.array([coordx, coordy])\n",
    "    dirs_arg = 0\n",
    "    max_arrows = 1\n",
    "    count_arrows = 0\n",
    "    reach_max = 0\n",
    "\n",
    "    for i in range(1, Max+1):\n",
    "        spiral[tuple(now)] = i\n",
    "        if count_arrows == max_arrows:\n",
    "            dirs_arg = (dirs_arg + 1) % 4\n",
    "            reach_max += 1\n",
    "            count_arrows = 0\n",
    "            \n",
    "        if reach_max == 2:\n",
    "            max_arrows += 1\n",
    "            reach_max = 0\n",
    "\n",
    "        now += dirs[dirs_arg]\n",
    "        count_arrows += 1\n",
    "\n",
    "    return spiral\n",
    "\n",
    "# Generating the spiral matrix with Max set to 529 to ensure the variable is defined in this context\n",
    "spiral_matrix_529 = makeSpiral(529)\n",
    "\n",
    "# Now, extracting the diagonal elements from the spiral matrix\n",
    "diagonal_elements = np.diag(spiral_matrix_529)\n",
    "diagonal_elements\n"
   ]
  },
  {
   "cell_type": "code",
   "execution_count": 19,
   "id": "e64014cf-4fd8-4a51-b6c4-d6b212fe0dba",
   "metadata": {
    "tags": []
   },
   "outputs": [
    {
     "data": {
      "text/plain": [
       "[5, 17, 37, 65, 101, 145, 197, 257, 325, 401, 485]"
      ]
     },
     "execution_count": 19,
     "metadata": {},
     "output_type": "execute_result"
    }
   ],
   "source": [
    "def square_series(num_terms):\n",
    "    \"\"\"\n",
    "    Generate a list of terms for the series 1 + (2n)^2, where n is a positive integer.\n",
    "\n",
    "    Parameters:\n",
    "    num_terms (int): The number of terms to generate in the series.\n",
    "\n",
    "    Returns:\n",
    "    list: A list containing the first `num_terms` of the series.\n",
    "    \"\"\"\n",
    "    series = [1 + (2*n)**2 for n in range(1, num_terms + 1)]\n",
    "    return series\n",
    "\n",
    "# Example: Generate the first 10 terms of the series\n",
    "first_10_terms = square_series(11)\n",
    "first_10_terms\n"
   ]
  },
  {
   "cell_type": "code",
   "execution_count": 21,
   "id": "c656bebf-46cd-4a01-854a-46a2255cbca4",
   "metadata": {
    "tags": []
   },
   "outputs": [
    {
     "data": {
      "text/plain": [
       "[2, 10, 26, 50, 82, 122, 170, 226, 290, 362, 442, 530]"
      ]
     },
     "execution_count": 21,
     "metadata": {},
     "output_type": "execute_result"
    }
   ],
   "source": [
    "def square_series_odd(num_terms):\n",
    "    \"\"\"\n",
    "    Generate a list of terms for the series 1 + (2n+1)^2, where n is a positive integer.\n",
    "\n",
    "    Parameters:\n",
    "    num_terms (int): The number of terms to generate in the series.\n",
    "\n",
    "    Returns:\n",
    "    list: A list containing the first `num_terms` of the series.\n",
    "    \"\"\"\n",
    "    series = [1 + (2*n + 1)**2 for n in range(num_terms)]\n",
    "    return series\n",
    "\n",
    "# Example: Generate the first 10 terms of the series for 1 + (2n+1)^2\n",
    "first_10_terms_odd = square_series_odd(12)\n",
    "first_10_terms_odd\n"
   ]
  },
  {
   "cell_type": "code",
   "execution_count": 22,
   "id": "1e6609d0-e4ba-43d3-8c24-b14943c1f5af",
   "metadata": {
    "tags": []
   },
   "outputs": [
    {
     "data": {
      "text/plain": [
       "[7, 21, 43, 73, 111, 157, 211, 273, 343, 421]"
      ]
     },
     "execution_count": 22,
     "metadata": {},
     "output_type": "execute_result"
    }
   ],
   "source": [
    "def quadratic_series(num_terms):\n",
    "    \"\"\"\n",
    "    Generate a list of terms for the series 1 + 2n(2n+1), where n is a positive integer.\n",
    "\n",
    "    Parameters:\n",
    "    num_terms (int): The number of terms to generate in the series.\n",
    "\n",
    "    Returns:\n",
    "    list: A list containing the first `num_terms` of the series.\n",
    "    \"\"\"\n",
    "    series = [1 + 2*n*(2*n + 1) for n in range(1, num_terms + 1)]\n",
    "    return series\n",
    "\n",
    "# Example: Generate the first 10 terms of the series for 1 + 2n(2n+1)\n",
    "first_10_terms_quadratic = quadratic_series(10)\n",
    "first_10_terms_quadratic\n"
   ]
  },
  {
   "cell_type": "code",
   "execution_count": 23,
   "id": "228689ea-6b97-486b-bf12-9fe7d31c4a30",
   "metadata": {
    "tags": []
   },
   "outputs": [
    {
     "data": {
      "text/plain": [
       "[3, 13, 31, 57, 91, 133, 183, 241, 307, 381]"
      ]
     },
     "execution_count": 23,
     "metadata": {},
     "output_type": "execute_result"
    }
   ],
   "source": [
    "def modified_quadratic_series(num_terms):\n",
    "    \"\"\"\n",
    "    Generate a list of terms for the series 1 + 2n(2n-1), where n is a positive integer.\n",
    "\n",
    "    Parameters:\n",
    "    num_terms (int): The number of terms to generate in the series.\n",
    "\n",
    "    Returns:\n",
    "    list: A list containing the first `num_terms` of the series.\n",
    "    \"\"\"\n",
    "    series = [1 + 2*n*(2*n - 1) for n in range(1, num_terms + 1)]\n",
    "    return series\n",
    "\n",
    "# Example: Generate the first 10 terms of the series for 1 + 2n(2n-1)\n",
    "first_10_terms_modified = modified_quadratic_series(10)\n",
    "first_10_terms_modified\n"
   ]
  },
  {
   "cell_type": "code",
   "execution_count": 24,
   "id": "3a46f3a9-8acb-4b9f-abdb-b00ab5192599",
   "metadata": {
    "tags": []
   },
   "outputs": [
    {
     "data": {
      "text/plain": [
       "[507,\n",
       " 421,\n",
       " 343,\n",
       " 273,\n",
       " 211,\n",
       " 157,\n",
       " 111,\n",
       " 73,\n",
       " 43,\n",
       " 21,\n",
       " 7,\n",
       " 1,\n",
       " 3,\n",
       " 13,\n",
       " 31,\n",
       " 57,\n",
       " 91,\n",
       " 133,\n",
       " 183,\n",
       " 241,\n",
       " 307,\n",
       " 381,\n",
       " 463]"
      ]
     },
     "execution_count": 24,
     "metadata": {},
     "output_type": "execute_result"
    }
   ],
   "source": [
    "def extract_anti_diagonal(spiral_matrix):\n",
    "    \"\"\"\n",
    "    Extracts the series of numbers corresponding to the last element of the first column,\n",
    "    the second-to-last element of the second column, and so on, from a given square matrix.\n",
    "\n",
    "    Parameters:\n",
    "    spiral_matrix (numpy.ndarray): A 2D numpy array representing the square matrix.\n",
    "\n",
    "    Returns:\n",
    "    list: A list of numbers extracted from the anti-diagonal pattern.\n",
    "    \"\"\"\n",
    "    N = spiral_matrix.shape[0]  # Assuming square matrix\n",
    "    anti_diagonal_elements = [spiral_matrix[N-1-i, i] for i in range(N)]\n",
    "    return anti_diagonal_elements\n",
    "\n",
    "# Using the previously generated spiral_matrix_529 to extract the required elements\n",
    "anti_diagonal_elements = extract_anti_diagonal(spiral_matrix_529)\n",
    "anti_diagonal_elements\n"
   ]
  },
  {
   "cell_type": "code",
   "execution_count": null,
   "id": "8451582c-e310-4fb5-b66c-ea96b7203987",
   "metadata": {},
   "outputs": [],
   "source": []
  }
 ],
 "metadata": {
  "kernelspec": {
   "display_name": "Python 3 (ipykernel)",
   "language": "python",
   "name": "python3"
  },
  "language_info": {
   "codemirror_mode": {
    "name": "ipython",
    "version": 3
   },
   "file_extension": ".py",
   "mimetype": "text/x-python",
   "name": "python",
   "nbconvert_exporter": "python",
   "pygments_lexer": "ipython3",
   "version": "3.11.5"
  }
 },
 "nbformat": 4,
 "nbformat_minor": 5
}
